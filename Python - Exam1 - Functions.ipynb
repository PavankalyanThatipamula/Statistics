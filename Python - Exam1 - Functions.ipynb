{
 "cells": [
  {
   "cell_type": "raw",
   "id": "9a647581",
   "metadata": {},
   "source": [
    "Part:-1 (2 marks each)\n",
    "1) Explain map and filter function with example\n",
    "2) Explain the difference between positional and keyword argument\n",
    "3) Explain type conversion with example\n",
    "4) Explain global and local variable\n",
    "5) Explain the properties of list and explain all difference between list and tuple\n",
    "\n",
    "Part:-2 (5 marks each)\n",
    "6) Write a program to reverse an integer in Python.\n",
    "7) Write a program in Python to check whether an integer is an Armstrong number or not.\n",
    "8) Write a program in Python to check if a given number is prime or not.\n",
    "9) Write a program in Python to print the Fibonacci series using an iterative method.\n",
    "10) Write a program in Python to print the Fibonacci series using a recursive method."
   ]
  },
  {
   "cell_type": "raw",
   "id": "006b0ecd",
   "metadata": {},
   "source": [
    "To Select line of statement in a cell\n",
    "crt + [ = to decrease the indentation\n",
    "clrt + ] = to increase the indentation\n",
    "clrt + / = to give the comments # "
   ]
  },
  {
   "cell_type": "code",
   "execution_count": 9,
   "id": "c7b8fbb9",
   "metadata": {},
   "outputs": [],
   "source": [
    "from IPython.core.interactiveshell import InteractiveShell\n",
    "InteractiveShell.ast_node_interactivity = 'all'"
   ]
  },
  {
   "cell_type": "code",
   "execution_count": null,
   "id": "f7da8c3a",
   "metadata": {},
   "outputs": [],
   "source": [
    "# 1Q Explain map and filter function with example\n",
    "\n"
   ]
  },
  {
   "cell_type": "raw",
   "id": "209f75fe",
   "metadata": {},
   "source": []
  },
  {
   "cell_type": "code",
   "execution_count": null,
   "id": "4b82ab9c",
   "metadata": {},
   "outputs": [],
   "source": []
  },
  {
   "cell_type": "code",
   "execution_count": null,
   "id": "2152eed3",
   "metadata": {},
   "outputs": [],
   "source": []
  },
  {
   "cell_type": "raw",
   "id": "4cb3a643",
   "metadata": {},
   "source": [
    "# 2Q  Explain the difference between positional and keyword argument\n",
    "Python functions can contain two types of arguments: positional arguments and keyword arguments.\n",
    "    Positional arguments must be included in the correct order.\n",
    "    Keyword arguments are included with a keyword and equals sign.\n",
    "\n",
    "Positional arguments   :\n",
    "def add(a,b):\n",
    "    pass\n",
    "a,b are the positional arguments \n",
    "- All positional arguments must be given to call a function\n",
    "- Positional arguments takes values in the order they are defined\n",
    "\n",
    "Keyword Arguments (Default Arguements) :\n",
    "- Keyword Arguments are optional\n",
    "- Default parameters are defined in a function using name = value pairs\n",
    "- If Positional parameters are given in the function , then first given values to positional arguments before keyword args\n",
    "- If no values are provided to keyword argument while calling a function , then it takes default values mentioned in a function\n"
   ]
  },
  {
   "cell_type": "code",
   "execution_count": null,
   "id": "81fd3a06",
   "metadata": {},
   "outputs": [],
   "source": []
  },
  {
   "cell_type": "code",
   "execution_count": null,
   "id": "2ce91cfc",
   "metadata": {},
   "outputs": [],
   "source": [
    "Types of Arguments\n",
    "1.Positional Arguments\n",
    "2. Default Arguments or Keyword Arguments\n",
    "3. Arbitrary Argument(Variable length arguments) *args \n",
    "- it defined * + variable_name\n",
    "- it store the value as tuple datatype\n",
    "- it should comes after Positional or Default in a function\n",
    "4. Keyword Arbitrary Arguments ** kwargs\n",
    "- it defined ** + keyword_name\n",
    "- it store the name= value pair as dictionary key-value pairs\n",
    "- it should comes after Positional or Default in a function"
   ]
  },
  {
   "cell_type": "code",
   "execution_count": null,
   "id": "51a08804",
   "metadata": {},
   "outputs": [],
   "source": [
    "def pk(x,y,*arg):\n",
    "    tuple1 = arg+(1,2,3)\n",
    "    string = arg[0]+arg[1]\n",
    "    addition = x+y+arg[2]+arg[3]\n",
    "    print('tuple of elements',tuple1)\n",
    "    print('arg as string concatenation : ',string)\n",
    "    print('addition of arg and x,y : ',addition)\n",
    "    \n",
    "pk(10,20,'Pavan',\"kalyan\",1,2)   "
   ]
  },
  {
   "cell_type": "code",
   "execution_count": null,
   "id": "9937d886",
   "metadata": {},
   "outputs": [],
   "source": [
    "# arbitrary keyword arguments - using **kwargs\n",
    "def f(**kwarg):\n",
    "    print(kwarg)\n",
    "    print(type(kwarg))    # kwarg argument store as dictionay  and it can extract by dict['key']\n",
    "    print(kwarg['x']+20)\n",
    "    \n",
    "f(x =10,y =20,z=30)    "
   ]
  },
  {
   "cell_type": "code",
   "execution_count": null,
   "id": "bc7347c8",
   "metadata": {},
   "outputs": [],
   "source": [
    "def f(x,y,*arg,**kwarg):\n",
    "    z = x+y\n",
    "    ar = arg[0]+arg[1]\n",
    "    kw = kwarg['a']+kwarg['b']\n",
    "    print('normal arguments : ',z)\n",
    "    print('Arbitrary_arguments : ',ar)\n",
    "    print('keyword Arbitrary arguments : ',kw)\n",
    "    print(kwarg)\n",
    "    print(arg)\n",
    "    \n",
    "f(1,2,3,4,5,a = 10,b =20) "
   ]
  },
  {
   "cell_type": "code",
   "execution_count": 6,
   "id": "663d0100",
   "metadata": {},
   "outputs": [
    {
     "data": {
      "text/plain": [
       "'Ticket cost to hyderabad is 450'"
      ]
     },
     "execution_count": 6,
     "metadata": {},
     "output_type": "execute_result"
    }
   ],
   "source": [
    "def ticket_fare(city_name = 'Goa'):\n",
    "    city_name = city_name.lower()\n",
    "    if city_name == 'hyderabad':\n",
    "        return f'Ticket cost to {city_name} is 450'\n",
    "    elif city_name == 'karimnagar':\n",
    "        return f'Ticket cost to {city_name} is 200'\n",
    "    elif city_name == 'Jagitial':\n",
    "        return f'Ticket cost to {city_name} is 30'\n",
    "    else:\n",
    "        return f'Ticket cost to {city_name} is free'\n",
    "    \n"
   ]
  },
  {
   "cell_type": "code",
   "execution_count": 8,
   "id": "932faec6",
   "metadata": {},
   "outputs": [
    {
     "data": {
      "text/plain": [
       "'Ticket cost to karimnagar is 200'"
      ]
     },
     "execution_count": 8,
     "metadata": {},
     "output_type": "execute_result"
    }
   ],
   "source": [
    "ticket_fare(city_name = 'Karimnagar')    "
   ]
  },
  {
   "cell_type": "code",
   "execution_count": 14,
   "id": "6cbed447",
   "metadata": {},
   "outputs": [],
   "source": [
    "def keyword(a,b,c=100,d = 200):\n",
    "    if a>b :\n",
    "        print(\"A is greater than B\")\n",
    "    else:\n",
    "        print(\"B is greater than A\")\n",
    "    if c >d:\n",
    "        print(\"C is greater than D\")\n",
    "    else:\n",
    "        print(\"D is greater than C\")\n",
    "    "
   ]
  },
  {
   "cell_type": "code",
   "execution_count": 18,
   "id": "1d842e2a",
   "metadata": {},
   "outputs": [
    {
     "name": "stdout",
     "output_type": "stream",
     "text": [
      "B is greater than A\n",
      "D is greater than C\n",
      "****************************************\n",
      "A is greater than B\n",
      "D is greater than C\n",
      "****************************************\n",
      "A is greater than B\n",
      "C is greater than D\n",
      "****************************************\n"
     ]
    }
   ],
   "source": [
    "keyword(20,30) \n",
    "print(\"*\"*40)\n",
    "keyword(40,30,200)\n",
    "print(\"*\"*40)\n",
    "keyword(39,20,300,200)\n",
    "print(\"*\"*40)"
   ]
  },
  {
   "cell_type": "code",
   "execution_count": null,
   "id": "a141d384",
   "metadata": {},
   "outputs": [],
   "source": []
  },
  {
   "cell_type": "raw",
   "id": "0c65c385",
   "metadata": {},
   "source": [
    "# 3Q Explain type conversion with example\n",
    "Type Conversion is process of converting a data type into another data type.\n",
    "There are two Type conversion \n",
    "1.Implicit type conversion is performed by Python interpreter only\n",
    "2. Explicit type conversion is performed by user by explicitly using type conversion functions in the \n",
    " program code. It is also known as typecasting."
   ]
  },
  {
   "cell_type": "raw",
   "id": "f0c2e864",
   "metadata": {},
   "source": [
    "# 4Q Explain global and local variable\n",
    "Scope of the Variable \n",
    "- It is a part of the program ,where variable  is declared , used, and  can be modified. \n",
    "There are two of Variables\n",
    "1. Local Variable - A variable which is created inside the function and it can access inside the function\n",
    "2. Global variable - A variable are created outside the function and it can access by all functions in their scope\n",
    "Note - We can't modify Global variable inside the function \n",
    "    exception by using the keyword 'global vari_name' inside the function"
   ]
  },
  {
   "cell_type": "raw",
   "id": "841d7833",
   "metadata": {},
   "source": [
    "# 5Q Explain the properties of list and explain all difference between list and tuple\n",
    "Properties of lists\n",
    "- List is collection of elements of different data type\n",
    "- it is mutable and indexed\n",
    "- it is ordered \n",
    "- it can have duplicate elements\n",
    "\n",
    "Difference between tuple and list \n",
    "- tuples are immutable  while lists are mutable"
   ]
  },
  {
   "cell_type": "code",
   "execution_count": null,
   "id": "1354b6f3",
   "metadata": {},
   "outputs": [],
   "source": []
  },
  {
   "cell_type": "code",
   "execution_count": null,
   "id": "d359ae05",
   "metadata": {},
   "outputs": [],
   "source": []
  },
  {
   "cell_type": "code",
   "execution_count": null,
   "id": "9e1149db",
   "metadata": {},
   "outputs": [],
   "source": []
  },
  {
   "cell_type": "code",
   "execution_count": null,
   "id": "c44e1660",
   "metadata": {},
   "outputs": [],
   "source": []
  },
  {
   "cell_type": "code",
   "execution_count": 1,
   "id": "9e4a32cc",
   "metadata": {},
   "outputs": [
    {
     "name": "stdout",
     "output_type": "stream",
     "text": [
      "432\n"
     ]
    }
   ],
   "source": [
    "# 6Q Write a program to reverse an integer in Python.\n",
    "N = 234\n",
    "a = str(N)\n",
    "answer = a[::-1]\n",
    "print(answer)"
   ]
  },
  {
   "cell_type": "code",
   "execution_count": null,
   "id": "d0e4c561",
   "metadata": {},
   "outputs": [],
   "source": []
  },
  {
   "cell_type": "code",
   "execution_count": 30,
   "id": "8f0d15ba",
   "metadata": {},
   "outputs": [],
   "source": [
    "# 7Q Write a program in Python to check whether an integer is an Armstrong number or not.\n",
    "#n = int(input('Armstrong no : '))\n",
    "def Armstrong(n):\n",
    "    original_num = n\n",
    "    p = 0\n",
    "    \n",
    "    while n >0:\n",
    "        digit = n%10\n",
    "        p = digit**(len(str(original_num)))+p\n",
    "        n = n//10\n",
    "    if p == original_num:\n",
    "        print(original_num,'Armstrong')\n",
    "    else:\n",
    "        print(original_num,'Not a Armstrong')"
   ]
  },
  {
   "cell_type": "code",
   "execution_count": 31,
   "id": "cdbb8dfc",
   "metadata": {},
   "outputs": [
    {
     "name": "stdout",
     "output_type": "stream",
     "text": [
      "407 Armstrong\n"
     ]
    }
   ],
   "source": [
    "Armstrong(407)"
   ]
  },
  {
   "cell_type": "code",
   "execution_count": 32,
   "id": "1bb53fed",
   "metadata": {},
   "outputs": [
    {
     "name": "stdout",
     "output_type": "stream",
     "text": [
      "Armstrong no : 407\n",
      "407 Armstrong\n"
     ]
    }
   ],
   "source": [
    "n = int(input('Armstrong no : '))\n",
    "\n",
    "original_num = n\n",
    "p = 0\n",
    "    \n",
    "while n >0:\n",
    "    digit = n%10\n",
    "    p = digit**(len(str(original_num)))+p\n",
    "    n = n//10\n",
    "if p == original_num:\n",
    "    print(original_num,'Armstrong')\n",
    "else:\n",
    "    print(original_num,'Not a Armstrong')"
   ]
  },
  {
   "cell_type": "code",
   "execution_count": 7,
   "id": "a4c9a671",
   "metadata": {},
   "outputs": [
    {
     "name": "stdout",
     "output_type": "stream",
     "text": [
      "Number : 4\n",
      "Not a Prime number\n"
     ]
    }
   ],
   "source": [
    "# 8Q Write a program in Python to check if a given number is prime or not.\n",
    "number = int(input('Number : '))\n",
    "c = 0\n",
    "for i in range(2,number+1):\n",
    "    if number%i == 0:\n",
    "        c = c+1\n",
    "if c >1:\n",
    "    print('Not a Prime number')\n",
    "else:\n",
    "    print('Prime number')"
   ]
  },
  {
   "cell_type": "code",
   "execution_count": 11,
   "id": "a2ca88a9",
   "metadata": {},
   "outputs": [
    {
     "name": "stdout",
     "output_type": "stream",
     "text": [
      "Give the length of the series : 8\n",
      "0 1 1 2 3 5 8 13 "
     ]
    }
   ],
   "source": [
    "# 9Q Write a program in Python to print the Fibonacci series using an iterative method.\n",
    "fibonacci = int(input('Give the length of the series : '))\n",
    "n1 = 0\n",
    "n2 = 1\n",
    "n3 = 0\n",
    "l = []\n",
    "for i in range(0,fibonacci):\n",
    "    print(n3,end = \" \" )\n",
    "    n1 = n2\n",
    "    n2 = n3\n",
    "    n3 = n1+n2\n",
    "    "
   ]
  },
  {
   "cell_type": "code",
   "execution_count": 17,
   "id": "7a08e262",
   "metadata": {},
   "outputs": [
    {
     "name": "stdout",
     "output_type": "stream",
     "text": [
      "length of the series  : 8\n",
      "0 1 1 2 3 5 8 13 "
     ]
    }
   ],
   "source": [
    "# 10Q Write a program in Python to print the Fibonacci series using a recursive method.\n",
    "length = int(input('length of the series  : '))\n",
    "\n",
    "def fiba(num):\n",
    "    if num<= 1:\n",
    "        return num        \n",
    "    else:\n",
    "        return (fiba(num -1)+ fiba(num-2))\n",
    "           \n",
    "for i in range(length):\n",
    "    print(fiba(i), end = \" \")\n"
   ]
  },
  {
   "cell_type": "code",
   "execution_count": null,
   "id": "1fc0b245",
   "metadata": {},
   "outputs": [],
   "source": []
  },
  {
   "cell_type": "markdown",
   "id": "0946f88d",
   "metadata": {},
   "source": [
    "# Learning about the Functions\n"
   ]
  },
  {
   "cell_type": "markdown",
   "id": "fd02980d",
   "metadata": {},
   "source": [
    "# Today's Agenda\n",
    "\n",
    "> ### What is function ?\n",
    "> ### Why functions are used ?\n",
    "> ### Terminologies used in functions ?\n",
    "> ### How to define a function ?\n",
    "> ### How to call a function ?\n",
    "> ### Functions with/without return values\n",
    "> ### Positonal and Keyword arguments\n"
   ]
  },
  {
   "cell_type": "markdown",
   "id": "1127586f",
   "metadata": {},
   "source": [
    "## What is function?\n",
    "- Function is a group of statements that performs a specific task.\\\n",
    "- A function is a collection of statements grouped together that performs an operation\\\n",
    "# Advantage of function\n",
    "- Code will be much organised\\\n",
    "- Internal working of function is not required to know \\\n",
    "- Reuse the piece of code written in function based on business logic\\\n",
    "- Developers can focus on main business logic instead of knowing each and every detail."
   ]
  },
  {
   "cell_type": "markdown",
   "id": "0f98bcad",
   "metadata": {},
   "source": [
    "## Advantages of Functions:\n",
    "\n",
    "- Makes your code more organized and manageable.\n",
    "- Brings resuability there by avoiding code redundency."
   ]
  },
  {
   "cell_type": "raw",
   "id": "b2b0a124",
   "metadata": {},
   "source": [
    "# to print multiple outputs \n",
    "from IPython.core.interactiveshell import InteractiveShell\n",
    "InteractiveShell.ast_node_interactivity = 'all'"
   ]
  },
  {
   "cell_type": "raw",
   "id": "0c5ebb85",
   "metadata": {},
   "source": [
    "Syntax of the Fucntion\n",
    "def <function name>([Parameters]):\n",
    "    '''Doc string'''\n",
    "    Business logic/Statements\n",
    "    ...\n",
    "    ...\n",
    "    ...\n",
    "    return value or print(value)"
   ]
  },
  {
   "cell_type": "markdown",
   "id": "dad4ce24",
   "metadata": {},
   "source": [
    "# Some of terminalogies / keywords used in functions\n",
    "def - Marks the start of the function header.\\\n",
    "function name - used to uniquely identify the function. Function naming follows the same check list which we followed \\\n",
    "for variables.\\\n",
    "Params/Args - used to pass values to a function. Params are optional.\\\n",
    "Colon (:)- marks the end of the function header.\\\n",
    "Doc String - A short description about the function.This is optional.\\\n",
    "Business logic/Statements - One ore more valid Python statements to perform the required task.\\\n",
    "\n",
    "**return** - This is optional. But this statement will help you to return a value from the function.\\\n",
    " Note - if no return statement provided it will return NONE \\\n",
    " Note - Return can also be used to Transfer the control back to caller (simple exists from the function)\\\n",
    "\n",
    "print - To dispaly the value from the function. This is optional. Either print or return need to be included at the end of \\\n",
    "the function. Make sure proper indentation is given inside the function body.\\\n"
   ]
  },
  {
   "cell_type": "markdown",
   "id": "0aec38a5",
   "metadata": {},
   "source": [
    "# Some Special function"
   ]
  },
  {
   "cell_type": "raw",
   "id": "5842fb82",
   "metadata": {},
   "source": [
    "# Recursion function - Function call itself is called recursion function\n",
    "- recursive function copies itself into small problems\n",
    "- Ensure recursive terminate using Base_case.\n",
    "\n",
    "# zip() function is a aggegator. it aggegates two or more iterables .\n",
    "-individual items of  the iterables  are combined to form the tuple \n",
    "-The zip() function stop whenever the shortest of the variable is exhausted \n",
    "\n",
    "# Lambda function is used to create an anonymous function. it doesn't have name \n",
    "- it can take n no of parameters but it can take only one expression \n",
    "\n",
    "# Map() function takes a function and a sequence as its argumennt.it returns iterator(object) on which the function is applied \n",
    "\n",
    "# filter() function applies the condition(predicate) on the sequence. if the condition returns True, the value passes the test and is added to a filter object. Otherwise the value is dropped from consideration.\n",
    "\n",
    "# Reduce() Function from functools module is used to apply a function repeatedly to accumulate a single data value.\n",
    "A summation is a good example of this process.\n",
    "The first value is added to the second value, then that sum is added to third value, and soon , untill the sum of the values is produced."
   ]
  },
  {
   "cell_type": "markdown",
   "id": "b2905b82",
   "metadata": {},
   "source": [
    "# syntax \n",
    "map(function, sequence)"
   ]
  },
  {
   "cell_type": "code",
   "execution_count": 1,
   "id": "ebba3f75",
   "metadata": {},
   "outputs": [],
   "source": [
    "def square_root(n):\n",
    "    return n**2\n",
    "li = [1,2,3,4,5,6,7]"
   ]
  },
  {
   "cell_type": "code",
   "execution_count": 4,
   "id": "0fb24b0f",
   "metadata": {},
   "outputs": [
    {
     "data": {
      "text/plain": [
       "[1, 4, 9, 16, 25, 36, 49]"
      ]
     },
     "execution_count": 4,
     "metadata": {},
     "output_type": "execute_result"
    }
   ],
   "source": [
    "# list of square numbers\n",
    "list(map(square_root,li))"
   ]
  },
  {
   "cell_type": "code",
   "execution_count": 2,
   "id": "a750d6a2",
   "metadata": {},
   "outputs": [
    {
     "data": {
      "text/plain": [
       "[0, 1, 4, 9, 16, 25, 36, 49, 64, 81]"
      ]
     },
     "execution_count": 2,
     "metadata": {},
     "output_type": "execute_result"
    }
   ],
   "source": [
    "list(map(square_root,list(range(10))))"
   ]
  },
  {
   "cell_type": "code",
   "execution_count": 3,
   "id": "cec09c56",
   "metadata": {},
   "outputs": [
    {
     "ename": "TypeError",
     "evalue": "'float' object is not callable",
     "output_type": "error",
     "traceback": [
      "\u001b[1;31m---------------------------------------------------------------------------\u001b[0m",
      "\u001b[1;31mTypeError\u001b[0m                                 Traceback (most recent call last)",
      "Cell \u001b[1;32mIn[3], line 2\u001b[0m\n\u001b[0;32m      1\u001b[0m \u001b[38;5;28;01mimport\u001b[39;00m \u001b[38;5;21;01mrandom\u001b[39;00m \u001b[38;5;28;01mas\u001b[39;00m \u001b[38;5;21;01mrd\u001b[39;00m\n\u001b[1;32m----> 2\u001b[0m \u001b[38;5;28mlist\u001b[39m(\u001b[38;5;28mmap\u001b[39m(rd\u001b[38;5;241m.\u001b[39mnormalvariate(),\u001b[38;5;28mlist\u001b[39m(\u001b[38;5;28mrange\u001b[39m(\u001b[38;5;241m1\u001b[39m,\u001b[38;5;241m1000000\u001b[39m))))\n",
      "\u001b[1;31mTypeError\u001b[0m: 'float' object is not callable"
     ]
    }
   ],
   "source": [
    "import random as rd\n",
    "list(map(rd.normalvariate(),list(range(1,1000000))))"
   ]
  },
  {
   "cell_type": "code",
   "execution_count": 5,
   "id": "560a3a5b",
   "metadata": {},
   "outputs": [
    {
     "name": "stdout",
     "output_type": "stream",
     "text": [
      "[1, 4, 9, 16, 25, 36, 49]\n"
     ]
    }
   ],
   "source": [
    "# Similar to \n",
    "ans = []\n",
    "for i in li:\n",
    "    ans.append(i**2)\n",
    "print(ans)    "
   ]
  },
  {
   "cell_type": "code",
   "execution_count": 6,
   "id": "3b512c46",
   "metadata": {},
   "outputs": [
    {
     "data": {
      "text/plain": [
       "[1, 4, 9, 16, 25, 36, 49]"
      ]
     },
     "execution_count": 6,
     "metadata": {},
     "output_type": "execute_result"
    }
   ],
   "source": [
    "# Similar to\n",
    "[i**2 for i in li]"
   ]
  },
  {
   "cell_type": "code",
   "execution_count": null,
   "id": "53ce2150",
   "metadata": {},
   "outputs": [],
   "source": []
  },
  {
   "cell_type": "markdown",
   "id": "c18baed2",
   "metadata": {},
   "source": [
    "# Syntax\n",
    "filter(Function, sequence)\n"
   ]
  },
  {
   "cell_type": "code",
   "execution_count": 8,
   "id": "882993ab",
   "metadata": {},
   "outputs": [],
   "source": [
    "def filter_func(string):\n",
    "    vowels = ['a','e','i','o','u']\n",
    "    if string.lower()[0] in vowels:\n",
    "        return True\n",
    "    else:\n",
    "        return False\n",
    "    "
   ]
  },
  {
   "cell_type": "code",
   "execution_count": 10,
   "id": "af538b10",
   "metadata": {},
   "outputs": [],
   "source": [
    "l1 = ['apple','car','bus','man','carrot','banana','orange']"
   ]
  },
  {
   "cell_type": "code",
   "execution_count": 12,
   "id": "c5d4af57",
   "metadata": {},
   "outputs": [
    {
     "data": {
      "text/plain": [
       "['apple', 'orange']"
      ]
     },
     "execution_count": 12,
     "metadata": {},
     "output_type": "execute_result"
    }
   ],
   "source": [
    "list(filter(filter_func,l1))"
   ]
  },
  {
   "cell_type": "code",
   "execution_count": 13,
   "id": "2e7b0c18",
   "metadata": {},
   "outputs": [
    {
     "name": "stdout",
     "output_type": "stream",
     "text": [
      "['apple', 'orange']\n"
     ]
    }
   ],
   "source": [
    "# Similar to\n",
    "ans =[]\n",
    "for i in l1:\n",
    "    if filter_func(i):\n",
    "        ans.append(i)\n",
    "print(ans)    "
   ]
  },
  {
   "cell_type": "markdown",
   "id": "2c5ff0b8",
   "metadata": {},
   "source": [
    "#### list of even numbers\n",
    "list(filter(lambda x : x%2 ==0 , list(range(20))))"
   ]
  },
  {
   "cell_type": "code",
   "execution_count": null,
   "id": "7b2fbb58",
   "metadata": {},
   "outputs": [],
   "source": []
  },
  {
   "cell_type": "markdown",
   "id": "c5e92785",
   "metadata": {},
   "source": [
    "# Syntax\n",
    "reduce(function, sequence)"
   ]
  },
  {
   "cell_type": "code",
   "execution_count": 18,
   "id": "5dc056d5",
   "metadata": {},
   "outputs": [
    {
     "data": {
      "text/plain": [
       "323"
      ]
     },
     "execution_count": 18,
     "metadata": {},
     "output_type": "execute_result"
    }
   ],
   "source": [
    "from functools import reduce\n",
    "l2 = [23,232,31,121,323,123] \n",
    "# maximum value\n",
    "reduce(lambda a,b : a if a>b else b, l2)"
   ]
  },
  {
   "cell_type": "code",
   "execution_count": 19,
   "id": "e916e667",
   "metadata": {},
   "outputs": [
    {
     "data": {
      "text/plain": [
       "853"
      ]
     },
     "execution_count": 19,
     "metadata": {},
     "output_type": "execute_result"
    }
   ],
   "source": [
    "# summation\n",
    "reduce(lambda a,b : a+b, l2)"
   ]
  },
  {
   "cell_type": "code",
   "execution_count": null,
   "id": "d4e1ed8a",
   "metadata": {},
   "outputs": [],
   "source": []
  },
  {
   "cell_type": "code",
   "execution_count": 21,
   "id": "cb94695c",
   "metadata": {},
   "outputs": [
    {
     "data": {
      "text/plain": [
       "[(1, 3), (2, 4), (3, 5), (4, 6), (5, 7)]"
      ]
     },
     "execution_count": 21,
     "metadata": {},
     "output_type": "execute_result"
    }
   ],
   "source": [
    "# Syntax\n",
    "l3 = [1,2,3,4,5]\n",
    "l4 = [3,4,5,6,7]\n",
    "list(zip(l3,l4))"
   ]
  },
  {
   "cell_type": "code",
   "execution_count": 22,
   "id": "55e72aab",
   "metadata": {},
   "outputs": [
    {
     "name": "stdout",
     "output_type": "stream",
     "text": [
      "[3, 8, 15, 24, 35]\n"
     ]
    }
   ],
   "source": [
    "ans = []\n",
    "for i,j in zip(l3,l4):\n",
    "    ans.append(i*j)\n",
    "print(ans)    "
   ]
  },
  {
   "cell_type": "code",
   "execution_count": null,
   "id": "713d09e5",
   "metadata": {},
   "outputs": [],
   "source": [
    "# Eucildean distance n = 1\n",
    "# Manhattan distance n = 2\n",
    "# Minsow distance n >=3\n",
    "\n",
    "# formaulae == square_root of (x - y)^2 \n",
    "\n"
   ]
  },
  {
   "cell_type": "code",
   "execution_count": 26,
   "id": "b496dc10",
   "metadata": {},
   "outputs": [
    {
     "name": "stdout",
     "output_type": "stream",
     "text": [
      "Eucildean distance is 10\n"
     ]
    }
   ],
   "source": [
    "l3 = [1,2,3,4,5]\n",
    "l4 = [3,4,5,6,7]\n",
    "ans = 0\n",
    "n = 1\n",
    "for i,j in zip(l3,l4):\n",
    "    ans = (abs(i-j))**2+ ans\n",
    "print(\"Eucildean distance is \"+ str(ans))    "
   ]
  },
  {
   "cell_type": "code",
   "execution_count": 45,
   "id": "4b1687d9",
   "metadata": {},
   "outputs": [],
   "source": [
    "def distance_cal(l1,l2,n = 1):\n",
    "    answer = 0\n",
    "    for i,j in zip(l1,l2):\n",
    "        answer = (abs(i-j))**n + answer\n",
    "    return answer**(1/n)"
   ]
  },
  {
   "cell_type": "code",
   "execution_count": 46,
   "id": "0f625f36",
   "metadata": {},
   "outputs": [
    {
     "data": {
      "text/plain": [
       "10.0"
      ]
     },
     "execution_count": 46,
     "metadata": {},
     "output_type": "execute_result"
    }
   ],
   "source": [
    "distance_cal(l3,l4,n = 1)"
   ]
  },
  {
   "cell_type": "code",
   "execution_count": 47,
   "id": "ef25b4da",
   "metadata": {},
   "outputs": [
    {
     "data": {
      "text/plain": [
       "4.47213595499958"
      ]
     },
     "execution_count": 47,
     "metadata": {},
     "output_type": "execute_result"
    }
   ],
   "source": [
    "distance_cal(l3,l4,n = 2)"
   ]
  },
  {
   "cell_type": "code",
   "execution_count": 48,
   "id": "d48a9e87",
   "metadata": {},
   "outputs": [
    {
     "data": {
      "text/plain": [
       "3.4199518933533937"
      ]
     },
     "execution_count": 48,
     "metadata": {},
     "output_type": "execute_result"
    }
   ],
   "source": [
    "distance_cal(l3,l4,3)"
   ]
  },
  {
   "cell_type": "code",
   "execution_count": null,
   "id": "f2ac1d10",
   "metadata": {},
   "outputs": [],
   "source": []
  }
 ],
 "metadata": {
  "kernelspec": {
   "display_name": "Python 3 (ipykernel)",
   "language": "python",
   "name": "python3"
  },
  "language_info": {
   "codemirror_mode": {
    "name": "ipython",
    "version": 3
   },
   "file_extension": ".py",
   "mimetype": "text/x-python",
   "name": "python",
   "nbconvert_exporter": "python",
   "pygments_lexer": "ipython3",
   "version": "3.11.3"
  }
 },
 "nbformat": 4,
 "nbformat_minor": 5
}
